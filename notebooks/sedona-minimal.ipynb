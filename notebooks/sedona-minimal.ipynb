{
 "cells": [
  {
   "cell_type": "code",
   "execution_count": 1,
   "id": "93dda59a",
   "metadata": {},
   "outputs": [],
   "source": [
    "import os\n",
    "\n",
    "import geopandas as gpd\n",
    "from pyspark.sql import SparkSession\n",
    "\n",
    "from sedona.utils.adapter import Adapter\n",
    "from sedona.register import SedonaRegistrator\n",
    "from sedona.utils import SedonaKryoRegistrator, KryoSerializer\n",
    "from sedona.core.formatMapper.shapefileParser import ShapefileReader"
   ]
  },
  {
   "cell_type": "code",
   "execution_count": 2,
   "id": "4fe33e74",
   "metadata": {},
   "outputs": [],
   "source": [
    "spark = SparkSession. \\\n",
    "    builder. \\\n",
    "    appName('appName'). \\\n",
    "    config(\"spark.serializer\", KryoSerializer.getName). \\\n",
    "    config(\"spark.kryo.registrator\", SedonaKryoRegistrator.getName). \\\n",
    "    config('spark.jars.packages',\n",
    "           'org.apache.sedona:sedona-python-adapter-3.0_2.12:1.0.0-incubating,org.datasyslab:geotools-wrapper:geotools-24.0'). \\\n",
    "    getOrCreate()"
   ]
  },
  {
   "cell_type": "code",
   "execution_count": 3,
   "id": "6f971bd3",
   "metadata": {},
   "outputs": [],
   "source": [
    "SedonaRegistrator.registerAll(spark)\n",
    "sc = spark.sparkContext"
   ]
  },
  {
   "cell_type": "code",
   "execution_count": 4,
   "id": "e6661cc3",
   "metadata": {},
   "outputs": [
    {
     "data": {
      "text/plain": [
       "'/home/jovyan/work/notebooks'"
      ]
     },
     "execution_count": 4,
     "metadata": {},
     "output_type": "execute_result"
    }
   ],
   "source": [
    "os.getcwd()"
   ]
  },
  {
   "cell_type": "code",
   "execution_count": 5,
   "id": "0806872c",
   "metadata": {},
   "outputs": [],
   "source": [
    "point_csv_df = spark.read.format(\"csv\").\\\n",
    "    option(\"delimiter\", \",\").\\\n",
    "    option(\"header\", \"true\").\\\n",
    "    load(\"../data/sample_points.csv\")\n",
    "\n",
    "point_csv_df.head()\n",
    "temptablename = \"gpstracks\""
   ]
  },
  {
   "cell_type": "code",
   "execution_count": 6,
   "id": "cb563fba",
   "metadata": {},
   "outputs": [
    {
     "name": "stdout",
     "output_type": "stream",
     "text": [
      "+--------------------+\n",
      "|                 gps|\n",
      "+--------------------+\n",
      "|POINT (-43.307411...|\n",
      "|POINT (-43.186813...|\n",
      "|POINT (-43.575729...|\n",
      "|POINT (-43.274319...|\n",
      "|POINT (-43.2356 -...|\n",
      "+--------------------+\n",
      "only showing top 5 rows\n",
      "\n"
     ]
    }
   ],
   "source": [
    "point_csv_df.createOrReplaceTempView(temptablename)\n",
    "\n",
    "point_df = spark.sql(\"select ST_Point(cast({:}.longitude as Decimal(24,20)), cast({:}.latitude as Decimal(24,20))) as gps from {:}\".format(*[temptablename]*3))\n",
    "point_df.show(5)"
   ]
  },
  {
   "cell_type": "code",
   "execution_count": null,
   "id": "ab705be0",
   "metadata": {},
   "outputs": [],
   "source": [
    "aois = ShapefileReader.readToGeometryRDD(sc, \"/home/jovyan/work/data/sample_polygons/\")\n",
    "aois_df = Adapter.toDf(aois, spark)\n",
    "aois_df.createOrReplaceTempView(\"aois\")\n",
    "aois_df.printSchema()"
   ]
  },
  {
   "cell_type": "code",
   "execution_count": null,
   "id": "f78e218f",
   "metadata": {},
   "outputs": [],
   "source": [
    "aois.boundary()"
   ]
  }
 ],
 "metadata": {
  "kernelspec": {
   "display_name": "Python 3",
   "language": "python",
   "name": "python3"
  },
  "language_info": {
   "codemirror_mode": {
    "name": "ipython",
    "version": 3
   },
   "file_extension": ".py",
   "mimetype": "text/x-python",
   "name": "python",
   "nbconvert_exporter": "python",
   "pygments_lexer": "ipython3",
   "version": "3.9.2"
  }
 },
 "nbformat": 4,
 "nbformat_minor": 5
}
